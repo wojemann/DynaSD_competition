{
 "cells": [
  {
   "cell_type": "code",
   "execution_count": 1,
   "metadata": {},
   "outputs": [],
   "source": [
    "%load_ext autoreload\n",
    "%autoreload 2"
   ]
  },
  {
   "cell_type": "code",
   "execution_count": 2,
   "metadata": {},
   "outputs": [],
   "source": [
    "# from epilepsy2bids.bids.chbmit.convert2bids import convert\n",
    "from epilepsy2bids.bids.siena.convert2bids import convert\n",
    "import pandas as pd\n",
    "from epilepsy2bids.eeg import Eeg\n",
    "from epilepsy2bids.annotations import Annotations\n",
    "from matplotlib import pyplot as plt\n",
    "import seaborn as sns\n",
    "import numpy as np\n",
    "from sklearn.metrics import f1_score\n",
    "import mne\n",
    "from mne.preprocessing import ICA\n",
    "from mne_icalabel import label_components\n",
    "\n",
    "import numpy as np\n",
    "import sys\n",
    "sys.path.append('../')\n",
    "from DSOSD.utils import notch_filter, bandpass_filter, downsample\n",
    "from DSOSD.model import NDD"
   ]
  },
  {
   "cell_type": "code",
   "execution_count": 3,
   "metadata": {},
   "outputs": [],
   "source": [
    "def eyeblink_removal_iclabel(df, fs): \n",
    "    '''\n",
    "    Apply ICA-based eyeblink removal\n",
    "    '''\n",
    "    ch_names = df.columns.tolist()\n",
    "    ch_names_mne = [ch.split('-')[0] for ch in ch_names]\n",
    "    ch_types = ['eeg'] * len(ch_names)\n",
    "\n",
    "    info = mne.create_info(ch_names=ch_names_mne, sfreq=fs, ch_types=ch_types)\n",
    "    raw = mne.io.RawArray(df.T.values, info)\n",
    "\n",
    "    # Step 2: Apply Common Average Reference (CAR)\n",
    "    raw.set_eeg_reference('average', projection=True)\n",
    "    raw.apply_proj()\n",
    "    montage = mne.channels.make_standard_montage('standard_1005')\n",
    "    raw.set_montage(montage)\n",
    "\n",
    "    # Apply a high-pass filter\n",
    "    filt_raw = raw.copy().filter(l_freq=1.0, h_freq=None)\n",
    "\n",
    "    # Step 4: Create and fit ICA\n",
    "    ica = ICA(n_components=15, random_state=97)  # Adjust n_components as needed\n",
    "    ica.fit(filt_raw)\n",
    "\n",
    "    explained_var_ratio = ica.get_explained_variance_ratio(filt_raw)\n",
    "    for channel_type, ratio in explained_var_ratio.items():\n",
    "        print(f\"Fraction of {channel_type} variance explained by all components: {ratio}\")\n",
    "\n",
    "    raw.load_data()\n",
    "    ica.plot_sources(raw, show_scrollbars=False)\n",
    "    ica.plot_components()\n",
    "    # Step 5: Apply ICLabel\n",
    "    ic_labels = label_components(raw, ica, method='iclabel')\n",
    "\n",
    "    labels = ic_labels[\"labels\"]\n",
    "    print(labels)\n",
    "    exclude_idx = [\n",
    "        idx for idx, label in enumerate(labels) if label not in [\"brain\"]\n",
    "    ]\n",
    "    print(f\"Excluding these ICA components: {exclude_idx}\")\n",
    "    ica.exclude=exclude_idx\n",
    "    \n",
    "    raw_cleaned = raw.copy()\n",
    "    ica.apply(raw_cleaned)\n",
    "\n",
    "    return raw_cleaned.get_data().T, raw_cleaned"
   ]
  },
  {
   "cell_type": "code",
   "execution_count": 4,
   "metadata": {},
   "outputs": [],
   "source": [
    "# convert('/users/wojemann/local_data/CHBMIT','/users/wojemann/local_data/CHBMIT_BIDS')\n",
    "# convert('/users/wojemann/local_data/siena','/users/wojemann/local_data/siena_BIDS')"
   ]
  },
  {
   "cell_type": "code",
   "execution_count": 56,
   "metadata": {},
   "outputs": [],
   "source": [
    "subj = 6\n",
    "run = 4"
   ]
  },
  {
   "cell_type": "code",
   "execution_count": 57,
   "metadata": {},
   "outputs": [],
   "source": [
    "eeg = Eeg.loadEdfAutoDetectMontage(edfFile=f'/Users/wojemann/local_data/siena_BIDS/sub-{str(subj).zfill(2)}/ses-01/eeg/sub-{str(subj).zfill(2)}_ses-01_task-szMonitoring_run-{str(run).zfill(2)}_eeg.edf')\n",
    "fs = eeg.fs"
   ]
  },
  {
   "cell_type": "code",
   "execution_count": 58,
   "metadata": {},
   "outputs": [],
   "source": [
    "# eeg.reReferenceToCommonAverage()\n",
    "# eeg_df_mono = pd.DataFrame(eeg.data.T,columns=eeg.channels)\n",
    "# eeg_np_noblinks,_ = eyeblink_removal_iclabel(eeg_df_mono,fs)\n",
    "# eeg.data = eeg_np_noblinks.T"
   ]
  },
  {
   "cell_type": "code",
   "execution_count": 59,
   "metadata": {},
   "outputs": [],
   "source": [
    "if eeg.montage is Eeg.Montage.UNIPOLAR:\n",
    "    eeg.reReferenceToBipolar()"
   ]
  },
  {
   "cell_type": "code",
   "execution_count": 60,
   "metadata": {},
   "outputs": [],
   "source": [
    "annot = Annotations.loadTsv(f'/Users/wojemann/local_data/siena_BIDS/sub-{str(subj).zfill(2)}/ses-01/eeg/sub-{str(subj).zfill(2)}_ses-01_task-szMonitoring_run-{str(run).zfill(2)}_events.tsv')"
   ]
  },
  {
   "cell_type": "code",
   "execution_count": 61,
   "metadata": {},
   "outputs": [],
   "source": [
    "signal_df = pd.DataFrame(eeg.data.T,columns=eeg.channels)"
   ]
  },
  {
   "cell_type": "code",
   "execution_count": 62,
   "metadata": {},
   "outputs": [],
   "source": [
    "signal_filt = bandpass_filter(notch_filter(signal_df,fs,axis=0),fs,lo=1,hi=100,axis=0)"
   ]
  },
  {
   "cell_type": "code",
   "execution_count": 63,
   "metadata": {},
   "outputs": [],
   "source": [
    "signal_ds,fs = downsample(signal_filt,fs,128)"
   ]
  },
  {
   "cell_type": "code",
   "execution_count": 64,
   "metadata": {},
   "outputs": [],
   "source": [
    "# import matplotlib.pyplot as plt\n",
    "# plt.figure(figsize=(12,4))\n",
    "# onset_idx = int(1427*fs)\n",
    "# offset_idx = int((1467+27+40)*fs)\n",
    "# plt.plot(signal_ds[onset_idx:offset_idx,0])\n",
    "# plt.plot(annot.getMask(fs)[onset_idx:offset_idx]*400)"
   ]
  },
  {
   "cell_type": "code",
   "execution_count": 65,
   "metadata": {},
   "outputs": [],
   "source": [
    "signal_ds_df = pd.DataFrame(signal_ds,columns=eeg.channels)"
   ]
  },
  {
   "cell_type": "code",
   "execution_count": 66,
   "metadata": {},
   "outputs": [
    {
     "name": "stderr",
     "output_type": "stream",
     "text": [
      "                                                       \r"
     ]
    }
   ],
   "source": [
    "mdl = NDD(fs=128)\n",
    "mdl.fit(signal_ds_df.iloc[:60*fs,:])"
   ]
  },
  {
   "cell_type": "code",
   "execution_count": 67,
   "metadata": {},
   "outputs": [],
   "source": [
    "sz_prob = mdl(signal_ds_df)"
   ]
  },
  {
   "cell_type": "code",
   "execution_count": 68,
   "metadata": {},
   "outputs": [
    {
     "data": {
      "text/plain": [
       "<matplotlib.lines.Line2D at 0x347ce9030>"
      ]
     },
     "execution_count": 68,
     "metadata": {},
     "output_type": "execute_result"
    },
    {
     "data": {
      "image/png": "[encoded data removed]",
      "text/plain": [
       "<Figure size 640x480 with 1 Axes>"
      ]
     },
     "metadata": {},
     "output_type": "display_data"
    }
   ],
   "source": [
    "# sns.histplot(sz_prob.iloc[:,:3])\n",
    "x = sz_prob.loc[:,:].values.ravel()\n",
    "x_l = np.log(x[x < np.percentile(x,99.9)])\n",
    "sns.histplot(x_l)\n",
    "plt.axvline(np.log(1.57))"
   ]
  },
  {
   "cell_type": "code",
   "execution_count": 69,
   "metadata": {},
   "outputs": [
    {
     "data": {
      "text/plain": [
       "1.5991039355821155"
      ]
     },
     "execution_count": 69,
     "metadata": {},
     "output_type": "execute_result"
    }
   ],
   "source": [
    "# mdl.get_cval_threshold()\n",
    "# mdl.get_gaussianx_threshold(sz_prob)\n",
    "mdl.get_knee_threshold(sz_prob=sz_prob)"
   ]
  },
  {
   "cell_type": "code",
   "execution_count": null,
   "metadata": {},
   "outputs": [],
   "source": [
    "_,sz_clf = mdl.get_onset_and_spread(sz_prob,\n",
    "                                    rwin_size=15,\n",
    "                                    rwin_req=14,\n",
    "                                    ret_smooth_mat=True,\n",
    "                                    )"
   ]
  },
  {
   "cell_type": "code",
   "execution_count": 85,
   "metadata": {},
   "outputs": [],
   "source": [
    "dynasd_mask_wins = sz_clf.sum(axis=1) > 8"
   ]
  },
  {
   "cell_type": "code",
   "execution_count": 86,
   "metadata": {},
   "outputs": [],
   "source": [
    "window_start_times = mdl.get_win_times(signal_ds_df.count().median().astype(int))\n",
    "# Convert window start times to sample indices\n",
    "start_sample_indices = (window_start_times * fs).astype(int)\n",
    "end_sample_indices = ((window_start_times + 1) * fs).astype(int)\n",
    "\n",
    "# Implement forward filling in window space\n",
    "dynasd_mask_wins_ff = dynasd_mask_wins.copy()\n",
    "\n",
    "# Ensure a classification is valid if at least `rwin_req_idx` out of `rwin_size_idx` future windows are true\n",
    "for j in range(len(dynasd_mask_wins) - mdl.rwin_size_idx):\n",
    "    if dynasd_mask_wins[j]:  # If window j is classified as true\n",
    "        future_sum = np.sum(dynasd_mask_wins[j:j + mdl.rwin_size_idx])  # Count future true windows\n",
    "        if future_sum >= mdl.rwin_req_idx:  # If requirement met, propagate forward\n",
    "            dynasd_mask_wins_ff[j:j + mdl.rwin_size_idx] = True\n",
    "\n",
    "\n",
    "# Initialize a sample-level seizure array (assume total duration is max end time)\n",
    "sample_length = end_sample_indices[-1]  # Assuming last window extends to end\n",
    "dynasd_mask = np.zeros(sample_length, dtype=bool)\n",
    "\n",
    "# Map window classification to sample space\n",
    "for start, end, is_seizing in zip(start_sample_indices, end_sample_indices, dynasd_mask_wins_ff):\n",
    "    if is_seizing:  # Only mark if the window was classified as seizing\n",
    "        dynasd_mask[start:end] = True\n"
   ]
  },
  {
   "cell_type": "code",
   "execution_count": 87,
   "metadata": {},
   "outputs": [],
   "source": [
    "mask_true = annot.getMask(fs)"
   ]
  },
  {
   "cell_type": "code",
   "execution_count": 88,
   "metadata": {},
   "outputs": [],
   "source": [
    "from timescoring.annotations import Annotation\n",
    "from timescoring import scoring"
   ]
  },
  {
   "cell_type": "code",
   "execution_count": 89,
   "metadata": {},
   "outputs": [],
   "source": [
    "hyp = Annotation(dynasd_mask,fs)\n",
    "ref = Annotation(mask_true,fs)\n",
    "param = scoring.EventScoring.Parameters(\n",
    "    toleranceStart=30,\n",
    "    toleranceEnd=60,\n",
    "    minOverlap=0,\n",
    "    maxEventDuration=5 * 60,\n",
    "    minDurationBetweenEvents=90)\n",
    "scores = scoring.EventScoring(ref, hyp, param)"
   ]
  },
  {
   "cell_type": "code",
   "execution_count": 90,
   "metadata": {},
   "outputs": [
    {
     "name": "stdout",
     "output_type": "stream",
     "text": [
      "# Event scoring\n",
      "- Sensitivity : 0.00 \n",
      "- Precision   : 0.00 \n",
      "- F1-score    : 0.00 \n",
      "- FP/24h      : 43.04 \n",
      "\n"
     ]
    },
    {
     "data": {
      "text/plain": [
       "[<matplotlib.lines.Line2D at 0x4be2327d0>]"
      ]
     },
     "execution_count": 90,
     "metadata": {},
     "output_type": "execute_result"
    },
    {
     "data": {
      "image/png": "[encoded data removed]",
      "text/plain": [
       "<Figure size 640x480 with 1 Axes>"
      ]
     },
     "metadata": {},
     "output_type": "display_data"
    }
   ],
   "source": [
    "print(\"# Event scoring\\n\" +\n",
    "      \"- Sensitivity : {:.2f} \\n\".format(scores.sensitivity) +\n",
    "      \"- Precision   : {:.2f} \\n\".format(scores.precision) +\n",
    "      \"- F1-score    : {:.2f} \\n\".format(scores.f1) +\n",
    "      \"- FP/24h      : {:.2f} \\n\".format(scores.fpRate))\n",
    "plt.plot(mask_true)\n",
    "plt.plot(dynasd_mask)"
   ]
  },
  {
   "cell_type": "code",
   "execution_count": 807,
   "metadata": {},
   "outputs": [],
   "source": [
    "results = pd.read_pickle('cval_results_df.pkl')\n",
    "results['smoothing'] = results['smoothing'].astype(str)\n",
    "# results = results[results.patient != 'sub-04']"
   ]
  },
  {
   "cell_type": "code",
   "execution_count": 808,
   "metadata": {},
   "outputs": [
    {
     "data": {
      "text/html": [
       "<div>\n",
       "<style scoped>\n",
       "    .dataframe tbody tr th:only-of-type {\n",
       "        vertical-align: middle;\n",
       "    }\n",
       "\n",
       "    .dataframe tbody tr th {\n",
       "        vertical-align: top;\n",
       "    }\n",
       "\n",
       "    .dataframe thead th {\n",
       "        text-align: right;\n",
       "    }\n",
       "</style>\n",
       "<table border=\"1\" class=\"dataframe\">\n",
       "  <thead>\n",
       "    <tr style=\"text-align: right;\">\n",
       "      <th></th>\n",
       "      <th>patient</th>\n",
       "      <th>run</th>\n",
       "      <th>threshold</th>\n",
       "      <th>low_pass</th>\n",
       "      <th>high_pass</th>\n",
       "      <th>training</th>\n",
       "      <th>smoothing</th>\n",
       "      <th>spatial_threshold</th>\n",
       "      <th>sensitivity</th>\n",
       "      <th>precision</th>\n",
       "      <th>F1</th>\n",
       "      <th>fprate</th>\n",
       "    </tr>\n",
       "  </thead>\n",
       "  <tbody>\n",
       "    <tr>\n",
       "      <th>0</th>\n",
       "      <td>sub-01</td>\n",
       "      <td>run-06</td>\n",
       "      <td>cval</td>\n",
       "      <td>1</td>\n",
       "      <td>55</td>\n",
       "      <td>10</td>\n",
       "      <td>(4, 5)</td>\n",
       "      <td>4</td>\n",
       "      <td>1.0</td>\n",
       "      <td>0.5</td>\n",
       "      <td>0.666667</td>\n",
       "      <td>37.16129</td>\n",
       "    </tr>\n",
       "    <tr>\n",
       "      <th>1</th>\n",
       "      <td>sub-01</td>\n",
       "      <td>run-06</td>\n",
       "      <td>cval</td>\n",
       "      <td>1</td>\n",
       "      <td>55</td>\n",
       "      <td>10</td>\n",
       "      <td>(4, 5)</td>\n",
       "      <td>6</td>\n",
       "      <td>1.0</td>\n",
       "      <td>1.0</td>\n",
       "      <td>1.000000</td>\n",
       "      <td>0.00000</td>\n",
       "    </tr>\n",
       "    <tr>\n",
       "      <th>2</th>\n",
       "      <td>sub-01</td>\n",
       "      <td>run-06</td>\n",
       "      <td>cval</td>\n",
       "      <td>1</td>\n",
       "      <td>55</td>\n",
       "      <td>10</td>\n",
       "      <td>(4, 5)</td>\n",
       "      <td>9</td>\n",
       "      <td>1.0</td>\n",
       "      <td>1.0</td>\n",
       "      <td>1.000000</td>\n",
       "      <td>0.00000</td>\n",
       "    </tr>\n",
       "    <tr>\n",
       "      <th>3</th>\n",
       "      <td>sub-01</td>\n",
       "      <td>run-06</td>\n",
       "      <td>cval</td>\n",
       "      <td>1</td>\n",
       "      <td>55</td>\n",
       "      <td>10</td>\n",
       "      <td>(9, 10)</td>\n",
       "      <td>4</td>\n",
       "      <td>1.0</td>\n",
       "      <td>1.0</td>\n",
       "      <td>1.000000</td>\n",
       "      <td>0.00000</td>\n",
       "    </tr>\n",
       "    <tr>\n",
       "      <th>4</th>\n",
       "      <td>sub-01</td>\n",
       "      <td>run-06</td>\n",
       "      <td>cval</td>\n",
       "      <td>1</td>\n",
       "      <td>55</td>\n",
       "      <td>10</td>\n",
       "      <td>(9, 10)</td>\n",
       "      <td>6</td>\n",
       "      <td>1.0</td>\n",
       "      <td>1.0</td>\n",
       "      <td>1.000000</td>\n",
       "      <td>0.00000</td>\n",
       "    </tr>\n",
       "  </tbody>\n",
       "</table>\n",
       "</div>"
      ],
      "text/plain": [
       "  patient     run threshold  low_pass  high_pass  training smoothing  \\\n",
       "0  sub-01  run-06      cval         1         55        10    (4, 5)   \n",
       "1  sub-01  run-06      cval         1         55        10    (4, 5)   \n",
       "2  sub-01  run-06      cval         1         55        10    (4, 5)   \n",
       "3  sub-01  run-06      cval         1         55        10   (9, 10)   \n",
       "4  sub-01  run-06      cval         1         55        10   (9, 10)   \n",
       "\n",
       "   spatial_threshold  sensitivity  precision        F1    fprate  \n",
       "0                  4          1.0        0.5  0.666667  37.16129  \n",
       "1                  6          1.0        1.0  1.000000   0.00000  \n",
       "2                  9          1.0        1.0  1.000000   0.00000  \n",
       "3                  4          1.0        1.0  1.000000   0.00000  \n",
       "4                  6          1.0        1.0  1.000000   0.00000  "
      ]
     },
     "execution_count": 808,
     "metadata": {},
     "output_type": "execute_result"
    }
   ],
   "source": [
    "results.head()\n"
   ]
  },
  {
   "cell_type": "code",
   "execution_count": 809,
   "metadata": {},
   "outputs": [],
   "source": [
    "results_mean = results.groupby(['threshold','low_pass','high_pass','training','smoothing','spatial_threshold'])[['sensitivity','precision','F1','fprate']].mean()\n",
    "# results_mean['smoothing'] = results_mean['smoothing'].astype(str)"
   ]
  },
  {
   "cell_type": "code",
   "execution_count": 810,
   "metadata": {},
   "outputs": [
    {
     "data": {
      "text/plain": [
       "('cval', 1, 100, 60, '(14, 15)', 9)"
      ]
     },
     "execution_count": 810,
     "metadata": {},
     "output_type": "execute_result"
    }
   ],
   "source": [
    "results_mean['F1'].idxmax()"
   ]
  },
  {
   "cell_type": "code",
   "execution_count": 811,
   "metadata": {},
   "outputs": [
    {
     "data": {
      "text/plain": [
       "sensitivity     0.958333\n",
       "precision       0.781382\n",
       "F1              0.822720\n",
       "fprate         20.687919\n",
       "Name: (cval, 1, 100, 60, (14, 15), 9), dtype: float64"
      ]
     },
     "execution_count": 811,
     "metadata": {},
     "output_type": "execute_result"
    }
   ],
   "source": [
    "results_mean.loc[('cval', 1, 100, 60, '(14, 15)', 9)]"
   ]
  },
  {
   "cell_type": "code",
   "execution_count": 812,
   "metadata": {},
   "outputs": [
    {
     "data": {
      "text/plain": [
       "<Axes: xlabel='training', ylabel='F1'>"
      ]
     },
     "execution_count": 812,
     "metadata": {},
     "output_type": "execute_result"
    },
    {
     "data": {
      "image/png": "[encoded data removed]",
      "text/plain": [
       "<Figure size 640x480 with 1 Axes>"
      ]
     },
     "metadata": {},
     "output_type": "display_data"
    }
   ],
   "source": [
    "x = 'training'\n",
    "y = 'F1'\n",
    "sns.boxplot(results_mean,x=x,y=y)\n",
    "sns.swarmplot(results_mean,x=x,y=y)"
   ]
  },
  {
   "cell_type": "code",
   "execution_count": 813,
   "metadata": {},
   "outputs": [
    {
     "data": {
      "text/plain": [
       "<Axes: xlabel='spatial_threshold', ylabel='smoothing'>"
      ]
     },
     "execution_count": 813,
     "metadata": {},
     "output_type": "execute_result"
    },
    {
     "data": {
      "image/png": "[encoded data removed]",
      "text/plain": [
       "<Figure size 640x480 with 2 Axes>"
      ]
     },
     "metadata": {},
     "output_type": "display_data"
    }
   ],
   "source": [
    "results_heat = results.groupby(['smoothing','spatial_threshold'])[['sensitivity','precision','F1','fprate']].mean()\n",
    "\n",
    "glue = results_heat.reset_index().pivot(index=\"smoothing\", columns=\"spatial_threshold\", values=\"F1\")\n",
    "sns.heatmap(glue)"
   ]
  },
  {
   "cell_type": "code",
   "execution_count": null,
   "metadata": {},
   "outputs": [],
   "source": []
  }
 ],
 "metadata": {
  "kernelspec": {
   "display_name": "dynasd_env",
   "language": "python",
   "name": "python3"
  },
  "language_info": {
   "codemirror_mode": {
    "name": "ipython",
    "version": 3
   },
   "file_extension": ".py",
   "mimetype": "text/x-python",
   "name": "python",
   "nbconvert_exporter": "python",
   "pygments_lexer": "ipython3",
   "version": "3.10.16"
  }
 },
 "nbformat": 4,
 "nbformat_minor": 2
}
