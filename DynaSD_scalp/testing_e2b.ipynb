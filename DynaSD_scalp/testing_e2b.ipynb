{
 "cells": [
  {
   "cell_type": "code",
   "execution_count": 2,
   "metadata": {},
   "outputs": [],
   "source": [
    "%load_ext autoreload\n",
    "%autoreload 2"
   ]
  },
  {
   "cell_type": "code",
   "execution_count": 3,
   "metadata": {},
   "outputs": [],
   "source": [
    "from epilepsy2bids.bids.chbmit.convert2bids import convert\n",
    "import pandas as pd\n",
    "from epilepsy2bids.eeg import Eeg\n",
    "from epilepsy2bids.annotations import Annotations\n",
    "from matplotlib import pyplot as plt\n",
    "import seaborn as sns\n",
    "from sklearn.metrics import f1_score"
   ]
  },
  {
   "cell_type": "code",
   "execution_count": 3,
   "metadata": {},
   "outputs": [],
   "source": [
    "# convert('/users/wojemann/local_data/CHBMIT','/users/wojemann/local_data/CHBMIT_BIDS')"
   ]
  },
  {
   "cell_type": "code",
   "execution_count": 4,
   "metadata": {},
   "outputs": [],
   "source": [
    "subj = 5\n",
    "run = 3"
   ]
  },
  {
   "cell_type": "code",
   "execution_count": 5,
   "metadata": {},
   "outputs": [],
   "source": [
    "eeg = Eeg.loadEdfAutoDetectMontage(edfFile=f'/Users/wojemann/local_data/CHBMIT_BIDS/sub-{str(subj).zfill(2)}/ses-01/eeg/sub-{str(subj).zfill(2)}_ses-01_task-szMonitoring_run-{str(run).zfill(2)}_eeg.edf')\n",
    "if eeg.montage is Eeg.Montage.UNIPOLAR:\n",
    "    eeg.reReferenceToBipolar()\n",
    "fs = eeg.fs"
   ]
  },
  {
   "cell_type": "code",
   "execution_count": 6,
   "metadata": {},
   "outputs": [],
   "source": [
    "annot = Annotations.loadTsv(f'/Users/wojemann/local_data/CHBMIT_BIDS/sub-{str(subj).zfill(2)}/ses-01/eeg/sub-{str(subj).zfill(2)}_ses-01_task-szMonitoring_run-{str(run).zfill(2)}_events.tsv')"
   ]
  },
  {
   "cell_type": "code",
   "execution_count": 1055,
   "metadata": {},
   "outputs": [],
   "source": [
    "signal_df = pd.DataFrame(eeg.data.T,columns=eeg.channels)"
   ]
  },
  {
   "cell_type": "code",
   "execution_count": 7,
   "metadata": {},
   "outputs": [],
   "source": [
    "import scipy as sc\n",
    "import numpy as np\n",
    "import os\n",
    "import sys\n",
    "sys.path.append('../')\n",
    "from DSOSD.utils import notch_filter, bandpass_filter, downsample\n",
    "from DSOSD.model import NDD\n",
    "# preprocess"
   ]
  },
  {
   "cell_type": "code",
   "execution_count": 1057,
   "metadata": {},
   "outputs": [],
   "source": [
    "signal_filt = bandpass_filter(notch_filter(signal_df,fs,axis=0),fs,lo=3,hi=55,axis=0)"
   ]
  },
  {
   "cell_type": "code",
   "execution_count": 1058,
   "metadata": {},
   "outputs": [],
   "source": [
    "signal_ds,fs = downsample(signal_filt,fs,128)"
   ]
  },
  {
   "cell_type": "code",
   "execution_count": 1059,
   "metadata": {},
   "outputs": [],
   "source": [
    "# import matplotlib.pyplot as plt\n",
    "# plt.figure(figsize=(12,4))\n",
    "# onset_idx = int(1427*fs)\n",
    "# offset_idx = int((1467+27+40)*fs)\n",
    "# plt.plot(signal_ds[onset_idx:offset_idx,0])\n",
    "# plt.plot(annot.getMask(fs)[onset_idx:offset_idx]*400)"
   ]
  },
  {
   "cell_type": "code",
   "execution_count": 1060,
   "metadata": {},
   "outputs": [],
   "source": [
    "signal_ds_df = pd.DataFrame(signal_ds,columns=eeg.channels)"
   ]
  },
  {
   "cell_type": "code",
   "execution_count": 1061,
   "metadata": {},
   "outputs": [
    {
     "name": "stderr",
     "output_type": "stream",
     "text": [
      "                                                       \r"
     ]
    }
   ],
   "source": [
    "mdl = NDD(fs=128)\n",
    "mdl.fit(signal_ds_df.iloc[:30*fs,:])"
   ]
  },
  {
   "cell_type": "code",
   "execution_count": 1062,
   "metadata": {},
   "outputs": [],
   "source": [
    "sz_prob = mdl(signal_ds_df)"
   ]
  },
  {
   "cell_type": "code",
   "execution_count": 1063,
   "metadata": {},
   "outputs": [
    {
     "data": {
      "text/plain": [
       "1.5273698264352469"
      ]
     },
     "execution_count": 1063,
     "metadata": {},
     "output_type": "execute_result"
    }
   ],
   "source": [
    "mdl.get_cval_threshold()"
   ]
  },
  {
   "cell_type": "code",
   "execution_count": 1064,
   "metadata": {},
   "outputs": [],
   "source": [
    "_,sz_clf = mdl.get_onset_and_spread(sz_prob,\n",
    "                                    rwin_size=15,\n",
    "                                    rwin_req=14,\n",
    "                                    ret_smooth_mat=True,\n",
    "                                    )"
   ]
  },
  {
   "cell_type": "code",
   "execution_count": 1065,
   "metadata": {},
   "outputs": [],
   "source": [
    "dynasd_mask_wins = sz_clf.sum(axis=1) > 6"
   ]
  },
  {
   "cell_type": "code",
   "execution_count": 1066,
   "metadata": {},
   "outputs": [],
   "source": [
    "window_start_times = mdl.get_win_times(signal_ds_df.count().median().astype(int))\n",
    "# Convert window start times to sample indices\n",
    "start_sample_indices = (window_start_times * fs).astype(int)\n",
    "end_sample_indices = ((window_start_times + 1) * fs).astype(int)\n",
    "\n",
    "# Implement forward filling in window space\n",
    "dynasd_mask_wins_ff = dynasd_mask_wins.copy()\n",
    "\n",
    "# Ensure a classification is valid if at least `rwin_req_idx` out of `rwin_size_idx` future windows are true\n",
    "for j in range(len(dynasd_mask_wins) - mdl.rwin_size_idx):\n",
    "    if dynasd_mask_wins[j]:  # If window j is classified as true\n",
    "        future_sum = np.sum(dynasd_mask_wins[j:j + mdl.rwin_size_idx])  # Count future true windows\n",
    "        if future_sum >= mdl.rwin_req_idx:  # If requirement met, propagate forward\n",
    "            dynasd_mask_wins_ff[j:j + mdl.rwin_size_idx] = True\n",
    "\n",
    "\n",
    "# Initialize a sample-level seizure array (assume total duration is max end time)\n",
    "sample_length = end_sample_indices[-1]  # Assuming last window extends to end\n",
    "dynasd_mask = np.zeros(sample_length, dtype=bool)\n",
    "\n",
    "# Map window classification to sample space\n",
    "for start, end, is_seizing in zip(start_sample_indices, end_sample_indices, dynasd_mask_wins_ff):\n",
    "    if is_seizing:  # Only mark if the window was classified as seizing\n",
    "        dynasd_mask[start:end] = True\n"
   ]
  },
  {
   "cell_type": "code",
   "execution_count": 1067,
   "metadata": {},
   "outputs": [],
   "source": [
    "mask_true = annot.getMask(fs)"
   ]
  },
  {
   "cell_type": "code",
   "execution_count": 8,
   "metadata": {},
   "outputs": [],
   "source": [
    "from timescoring.annotations import Annotation\n",
    "from timescoring import scoring"
   ]
  },
  {
   "cell_type": "code",
   "execution_count": 1069,
   "metadata": {},
   "outputs": [],
   "source": [
    "hyp = Annotation(dynasd_mask,fs)\n",
    "ref = Annotation(mask_true,fs)\n",
    "param = scoring.EventScoring.Parameters(\n",
    "    toleranceStart=30,\n",
    "    toleranceEnd=60,\n",
    "    minOverlap=0,\n",
    "    maxEventDuration=5 * 60,\n",
    "    minDurationBetweenEvents=90)\n",
    "scores = scoring.EventScoring(ref, hyp, param)"
   ]
  },
  {
   "cell_type": "code",
   "execution_count": 1070,
   "metadata": {},
   "outputs": [
    {
     "name": "stdout",
     "output_type": "stream",
     "text": [
      "# Event scoring\n",
      "- Sensitivity : 1.00 \n",
      "- Precision   : 1.00 \n",
      "- F1-score    : 1.00 \n",
      "- FP/24h      : 0.00 \n",
      "\n"
     ]
    },
    {
     "data": {
      "text/plain": [
       "[<matplotlib.lines.Line2D at 0x368f8c370>]"
      ]
     },
     "execution_count": 1070,
     "metadata": {},
     "output_type": "execute_result"
    },
    {
     "data": {
      "image/png": "[encoded data removed]",
      "text/plain": [
       "<Figure size 640x480 with 1 Axes>"
      ]
     },
     "metadata": {},
     "output_type": "display_data"
    }
   ],
   "source": [
    "print(\"# Event scoring\\n\" +\n",
    "      \"- Sensitivity : {:.2f} \\n\".format(scores.sensitivity) +\n",
    "      \"- Precision   : {:.2f} \\n\".format(scores.precision) +\n",
    "      \"- F1-score    : {:.2f} \\n\".format(scores.f1) +\n",
    "      \"- FP/24h      : {:.2f} \\n\".format(scores.fpRate))\n",
    "plt.plot(mask_true)\n",
    "plt.plot(dynasd_mask)"
   ]
  },
  {
   "cell_type": "code",
   "execution_count": 29,
   "metadata": {},
   "outputs": [],
   "source": [
    "results = pd.read_pickle('cval_results_df.pkl')\n",
    "results['smoothing'] = results['smoothing'].astype(str)\n",
    "# results = results[results.patient != 'sub-04']"
   ]
  },
  {
   "cell_type": "code",
   "execution_count": 30,
   "metadata": {},
   "outputs": [
    {
     "data": {
      "text/html": [
       "<div>\n",
       "<style scoped>\n",
       "    .dataframe tbody tr th:only-of-type {\n",
       "        vertical-align: middle;\n",
       "    }\n",
       "\n",
       "    .dataframe tbody tr th {\n",
       "        vertical-align: top;\n",
       "    }\n",
       "\n",
       "    .dataframe thead th {\n",
       "        text-align: right;\n",
       "    }\n",
       "</style>\n",
       "<table border=\"1\" class=\"dataframe\">\n",
       "  <thead>\n",
       "    <tr style=\"text-align: right;\">\n",
       "      <th></th>\n",
       "      <th>patient</th>\n",
       "      <th>run</th>\n",
       "      <th>threshold</th>\n",
       "      <th>low_pass</th>\n",
       "      <th>high_pass</th>\n",
       "      <th>training</th>\n",
       "      <th>smoothing</th>\n",
       "      <th>spatial_threshold</th>\n",
       "      <th>sensitivity</th>\n",
       "      <th>precision</th>\n",
       "      <th>F1</th>\n",
       "      <th>fprate</th>\n",
       "    </tr>\n",
       "  </thead>\n",
       "  <tbody>\n",
       "    <tr>\n",
       "      <th>0</th>\n",
       "      <td>sub-01</td>\n",
       "      <td>run-06</td>\n",
       "      <td>cval</td>\n",
       "      <td>1</td>\n",
       "      <td>55</td>\n",
       "      <td>10</td>\n",
       "      <td>(4, 5)</td>\n",
       "      <td>4</td>\n",
       "      <td>1.0</td>\n",
       "      <td>0.5</td>\n",
       "      <td>0.666667</td>\n",
       "      <td>37.16129</td>\n",
       "    </tr>\n",
       "    <tr>\n",
       "      <th>1</th>\n",
       "      <td>sub-01</td>\n",
       "      <td>run-06</td>\n",
       "      <td>cval</td>\n",
       "      <td>1</td>\n",
       "      <td>55</td>\n",
       "      <td>10</td>\n",
       "      <td>(4, 5)</td>\n",
       "      <td>6</td>\n",
       "      <td>1.0</td>\n",
       "      <td>1.0</td>\n",
       "      <td>1.000000</td>\n",
       "      <td>0.00000</td>\n",
       "    </tr>\n",
       "    <tr>\n",
       "      <th>2</th>\n",
       "      <td>sub-01</td>\n",
       "      <td>run-06</td>\n",
       "      <td>cval</td>\n",
       "      <td>1</td>\n",
       "      <td>55</td>\n",
       "      <td>10</td>\n",
       "      <td>(4, 5)</td>\n",
       "      <td>9</td>\n",
       "      <td>1.0</td>\n",
       "      <td>1.0</td>\n",
       "      <td>1.000000</td>\n",
       "      <td>0.00000</td>\n",
       "    </tr>\n",
       "    <tr>\n",
       "      <th>3</th>\n",
       "      <td>sub-01</td>\n",
       "      <td>run-06</td>\n",
       "      <td>cval</td>\n",
       "      <td>1</td>\n",
       "      <td>55</td>\n",
       "      <td>10</td>\n",
       "      <td>(9, 10)</td>\n",
       "      <td>4</td>\n",
       "      <td>1.0</td>\n",
       "      <td>1.0</td>\n",
       "      <td>1.000000</td>\n",
       "      <td>0.00000</td>\n",
       "    </tr>\n",
       "    <tr>\n",
       "      <th>4</th>\n",
       "      <td>sub-01</td>\n",
       "      <td>run-06</td>\n",
       "      <td>cval</td>\n",
       "      <td>1</td>\n",
       "      <td>55</td>\n",
       "      <td>10</td>\n",
       "      <td>(9, 10)</td>\n",
       "      <td>6</td>\n",
       "      <td>1.0</td>\n",
       "      <td>1.0</td>\n",
       "      <td>1.000000</td>\n",
       "      <td>0.00000</td>\n",
       "    </tr>\n",
       "  </tbody>\n",
       "</table>\n",
       "</div>"
      ],
      "text/plain": [
       "  patient     run threshold  low_pass  high_pass  training smoothing  \\\n",
       "0  sub-01  run-06      cval         1         55        10    (4, 5)   \n",
       "1  sub-01  run-06      cval         1         55        10    (4, 5)   \n",
       "2  sub-01  run-06      cval         1         55        10    (4, 5)   \n",
       "3  sub-01  run-06      cval         1         55        10   (9, 10)   \n",
       "4  sub-01  run-06      cval         1         55        10   (9, 10)   \n",
       "\n",
       "   spatial_threshold  sensitivity  precision        F1    fprate  \n",
       "0                  4          1.0        0.5  0.666667  37.16129  \n",
       "1                  6          1.0        1.0  1.000000   0.00000  \n",
       "2                  9          1.0        1.0  1.000000   0.00000  \n",
       "3                  4          1.0        1.0  1.000000   0.00000  \n",
       "4                  6          1.0        1.0  1.000000   0.00000  "
      ]
     },
     "execution_count": 30,
     "metadata": {},
     "output_type": "execute_result"
    }
   ],
   "source": [
    "results.head()\n"
   ]
  },
  {
   "cell_type": "code",
   "execution_count": 39,
   "metadata": {},
   "outputs": [],
   "source": [
    "results_mean = results.groupby(['threshold','low_pass','high_pass','training','smoothing','spatial_threshold'])[['sensitivity','precision','F1','fprate']].mean()\n",
    "# results_mean['smoothing'] = results_mean['smoothing'].astype(str)"
   ]
  },
  {
   "cell_type": "code",
   "execution_count": 40,
   "metadata": {},
   "outputs": [
    {
     "data": {
      "text/plain": [
       "('cval', 1, 100, 60, '(14, 15)', 9)"
      ]
     },
     "execution_count": 40,
     "metadata": {},
     "output_type": "execute_result"
    }
   ],
   "source": [
    "results_mean['F1'].idxmax()"
   ]
  },
  {
   "cell_type": "code",
   "execution_count": 41,
   "metadata": {},
   "outputs": [
    {
     "data": {
      "text/plain": [
       "sensitivity     0.958333\n",
       "precision       0.781382\n",
       "F1              0.822720\n",
       "fprate         20.687919\n",
       "Name: (cval, 1, 100, 60, (14, 15), 9), dtype: float64"
      ]
     },
     "execution_count": 41,
     "metadata": {},
     "output_type": "execute_result"
    }
   ],
   "source": [
    "results_mean.loc[('cval', 1, 100, 60, '(14, 15)', 9)]"
   ]
  },
  {
   "cell_type": "code",
   "execution_count": 42,
   "metadata": {},
   "outputs": [
    {
     "data": {
      "text/plain": [
       "<Axes: xlabel='training', ylabel='F1'>"
      ]
     },
     "execution_count": 42,
     "metadata": {},
     "output_type": "execute_result"
    },
    {
     "data": {
      "image/png": "[encoded data removed]",
      "text/plain": [
       "<Figure size 640x480 with 1 Axes>"
      ]
     },
     "metadata": {},
     "output_type": "display_data"
    }
   ],
   "source": [
    "x = 'training'\n",
    "y = 'F1'\n",
    "sns.boxplot(results_mean,x=x,y=y)\n",
    "sns.swarmplot(results_mean,x=x,y=y)"
   ]
  },
  {
   "cell_type": "code",
   "execution_count": 43,
   "metadata": {},
   "outputs": [
    {
     "data": {
      "text/plain": [
       "<Axes: xlabel='spatial_threshold', ylabel='smoothing'>"
      ]
     },
     "execution_count": 43,
     "metadata": {},
     "output_type": "execute_result"
    },
    {
     "data": {
      "image/png": "[encoded data removed]",
      "text/plain": [
       "<Figure size 640x480 with 2 Axes>"
      ]
     },
     "metadata": {},
     "output_type": "display_data"
    }
   ],
   "source": [
    "results_heat = results.groupby(['smoothing','spatial_threshold'])[['sensitivity','precision','F1','fprate']].mean()\n",
    "\n",
    "glue = results_heat.reset_index().pivot(index=\"smoothing\", columns=\"spatial_threshold\", values=\"F1\")\n",
    "sns.heatmap(glue)"
   ]
  },
  {
   "cell_type": "code",
   "execution_count": null,
   "metadata": {},
   "outputs": [],
   "source": []
  }
 ],
 "metadata": {
  "kernelspec": {
   "display_name": "dynasd_env",
   "language": "python",
   "name": "python3"
  },
  "language_info": {
   "codemirror_mode": {
    "name": "ipython",
    "version": 3
   },
   "file_extension": ".py",
   "mimetype": "text/x-python",
   "name": "python",
   "nbconvert_exporter": "python",
   "pygments_lexer": "ipython3",
   "version": "3.10.8"
  }
 },
 "nbformat": 4,
 "nbformat_minor": 2
}
